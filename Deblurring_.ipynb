{
 "cells": [
  {
   "cell_type": "code",
   "execution_count": 1,
   "id": "21ba729b",
   "metadata": {},
   "outputs": [],
   "source": [
    "#Import required Image library\n",
    "from PIL import Image, ImageFilter\n",
    "\n",
    "#Open existing image\n",
    "OriImage = Image.open('clear.jpg')\n",
    "OriImage.show()\n",
    "\n",
    "blurImage = OriImage.filter(ImageFilter.BLUR)\n",
    "blurImage.show()\n",
    "#Save blurImage\n",
    "blurImage.save('clear_blurred.jpg')\n",
    "\n"
   ]
  },
  {
   "cell_type": "code",
   "execution_count": 2,
   "id": "c6639d6f",
   "metadata": {},
   "outputs": [],
   "source": [
    "import os\n",
    "import glob\n",
    "from PIL import Image, ImageFilter\n",
    "\n",
    "# Set the paths for the input and output directories\n",
    "input_dir = 'without_COTS/'\n",
    "output_dir = 'output/'\n",
    "\n",
    "# Create the output directory if it doesn't exist\n",
    "if not os.path.exists(output_dir):\n",
    "    os.makedirs(output_dir)\n",
    "\n",
    "# Set the image extension to process\n",
    "image_ext = \"*.jpg\"\n",
    "\n",
    "# Get a list of all the image file paths in the input directory\n",
    "image_paths = glob.glob(os.path.join(input_dir, image_ext))\n",
    "\n",
    "# Loop through each image file and apply the blur effect\n",
    "for image_path in image_paths:\n",
    "    # Open the image file\n",
    "    image = Image.open(image_path)\n",
    "\n",
    "    # Apply the blur effect\n",
    "    blur_image = image.filter(ImageFilter.BLUR)\n",
    "\n",
    "    # Construct the output file path\n",
    "    output_path = os.path.join(output_dir, os.path.basename(image_path))\n",
    "\n",
    "    # Save the blurred image to the output directory\n",
    "    blur_image.save(output_path)\n"
   ]
  },
  {
   "cell_type": "code",
   "execution_count": null,
   "id": "0fa008e4",
   "metadata": {},
   "outputs": [
    {
     "name": "stdout",
     "output_type": "stream",
     "text": [
      "Epoch 1/10\n"
     ]
    }
   ],
   "source": [
    "import tensorflow as tf\n",
    "import numpy as np\n",
    "import cv2\n",
    "import os\n",
    "\n",
    "# Load the input and target images\n",
    "input_images = []\n",
    "target_images = []\n",
    "\n",
    "# Load the images from the 'input' and 'target' directories\n",
    "for file in os.listdir('output'):\n",
    "    input_image = cv2.imread(os.path.join('output', file))\n",
    "    target_image = cv2.imread(os.path.join('without_COTS', file))\n",
    "\n",
    "    input_image = cv2.cvtColor(input_image, cv2.COLOR_BGR2RGB)\n",
    "    target_image = cv2.cvtColor(target_image, cv2.COLOR_BGR2RGB)\n",
    "\n",
    "    input_image = input_image / 255.0\n",
    "    target_image = target_image / 255.0\n",
    "\n",
    "    input_images.append(input_image)\n",
    "    target_images.append(target_image)\n",
    "\n",
    "# Convert the input and target image lists to numpy arrays\n",
    "input_images = np.array(input_images)\n",
    "target_images = np.array(target_images)\n",
    "\n",
    "# Define the CNN architecture\n",
    "model = tf.keras.models.Sequential([\n",
    "    tf.keras.layers.Conv2D(64, (3, 3), activation='relu', padding='same', input_shape=input_images.shape[1:]),\n",
    "    tf.keras.layers.Conv2D(64, (3, 3), activation='relu', padding='same'),\n",
    "    tf.keras.layers.Conv2D(64, (3, 3), activation='relu', padding='same'),\n",
    "    tf.keras.layers.Conv2D(64, (3, 3), activation='relu', padding='same'),\n",
    "    tf.keras.layers.Conv2D(3, (3, 3), activation='linear', padding='same')\n",
    "])\n",
    "\n",
    "# Compile the model\n",
    "model.compile(optimizer='adam', loss='mean_squared_error')\n",
    "\n",
    "# Train the model on the input and target images\n",
    "model.fit(input_images, target_images, epochs=10)\n",
    "\n",
    "# Use the trained model to deblur a new image\n",
    "new_image = cv2.imread('cots pilot project-20230221T054935Z-001/cots pilot project/testing.jpg')\n",
    "new_image = cv2.cvtColor(new_image, cv2.COLOR_BGR2RGB) / 255.0\n",
    "new_image = new_image.reshape((1,) + new_image.shape)\n",
    "deblurred_image = model.predict(new_image)[0]\n",
    "\n",
    "# Save the deblurred image\n",
    "deblurred_image = cv2.cvtColor(np.uint8(deblurred_image * 255.0), cv2.COLOR_RGB2BGR)\n",
    "cv2.imwrite('deblurred_image.png', deblurred_image)\n"
   ]
  },
  {
   "cell_type": "code",
   "execution_count": null,
   "id": "1410885b",
   "metadata": {},
   "outputs": [],
   "source": []
  }
 ],
 "metadata": {
  "kernelspec": {
   "display_name": "Python 3",
   "language": "python",
   "name": "python3"
  },
  "language_info": {
   "codemirror_mode": {
    "name": "ipython",
    "version": 3
   },
   "file_extension": ".py",
   "mimetype": "text/x-python",
   "name": "python",
   "nbconvert_exporter": "python",
   "pygments_lexer": "ipython3",
   "version": "3.9.5"
  }
 },
 "nbformat": 4,
 "nbformat_minor": 5
}
